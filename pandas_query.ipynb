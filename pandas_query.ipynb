{
  "nbformat": 4,
  "nbformat_minor": 0,
  "metadata": {
    "colab": {
      "name": "pandas_query.ipynb",
      "provenance": [],
      "collapsed_sections": [],
      "authorship_tag": "ABX9TyN3focCugzCFw7AqQTfqPKF"
    },
    "kernelspec": {
      "name": "python3",
      "display_name": "Python 3"
    }
  },
  "cells": [
    {
      "cell_type": "code",
      "metadata": {
        "colab": {
          "base_uri": "https://localhost:8080/"
        },
        "id": "-rwhcUJ2Etf4",
        "outputId": "13d8c6b8-d0a1-4cb4-acd8-e047026af184"
      },
      "source": [
        "## 練習に使うデータを取得\n",
        "!wget https://www.nysol.jp/nysol_python/_downloads/610138a8b5d1260d3bc540f9d4e20d60/yakiniku_jp.csv"
      ],
      "execution_count": null,
      "outputs": [
        {
          "output_type": "stream",
          "text": [
            "--2021-01-03 09:45:40--  https://www.nysol.jp/nysol_python/_downloads/610138a8b5d1260d3bc540f9d4e20d60/yakiniku_jp.csv\n",
            "Resolving www.nysol.jp (www.nysol.jp)... 49.212.235.67\n",
            "Connecting to www.nysol.jp (www.nysol.jp)|49.212.235.67|:443... connected.\n",
            "HTTP request sent, awaiting response... 200 OK\n",
            "Length: 5698013 (5.4M) [text/csv]\n",
            "Saving to: ‘yakiniku_jp.csv’\n",
            "\n",
            "yakiniku_jp.csv     100%[===================>]   5.43M  1.70MB/s    in 3.2s    \n",
            "\n",
            "2021-01-03 09:45:44 (1.70 MB/s) - ‘yakiniku_jp.csv’ saved [5698013/5698013]\n",
            "\n"
          ],
          "name": "stdout"
        }
      ]
    },
    {
      "cell_type": "code",
      "metadata": {
        "id": "4R9kulwWEwrs"
      },
      "source": [
        "import pandas as pd\n",
        "df = pd.read_table('yakiniku_jp.csv', delimiter=',')"
      ],
      "execution_count": null,
      "outputs": []
    },
    {
      "cell_type": "code",
      "metadata": {
        "colab": {
          "base_uri": "https://localhost:8080/",
          "height": 142
        },
        "id": "lq68tfDtFCkf",
        "outputId": "37a312bf-7a23-4354-a95b-d982b1319cf1"
      },
      "source": [
        "df.head(3)"
      ],
      "execution_count": null,
      "outputs": [
        {
          "output_type": "execute_result",
          "data": {
            "text/html": [
              "<div>\n",
              "<style scoped>\n",
              "    .dataframe tbody tr th:only-of-type {\n",
              "        vertical-align: middle;\n",
              "    }\n",
              "\n",
              "    .dataframe tbody tr th {\n",
              "        vertical-align: top;\n",
              "    }\n",
              "\n",
              "    .dataframe thead th {\n",
              "        text-align: right;\n",
              "    }\n",
              "</style>\n",
              "<table border=\"1\" class=\"dataframe\">\n",
              "  <thead>\n",
              "    <tr style=\"text-align: right;\">\n",
              "      <th></th>\n",
              "      <th>date</th>\n",
              "      <th>time</th>\n",
              "      <th>receipt</th>\n",
              "      <th>itemID</th>\n",
              "      <th>item</th>\n",
              "      <th>price</th>\n",
              "      <th>quantity</th>\n",
              "    </tr>\n",
              "  </thead>\n",
              "  <tbody>\n",
              "    <tr>\n",
              "      <th>0</th>\n",
              "      <td>20070701</td>\n",
              "      <td>115200</td>\n",
              "      <td>5589</td>\n",
              "      <td>107</td>\n",
              "      <td>和牛焼肉弁当</td>\n",
              "      <td>1240</td>\n",
              "      <td>1</td>\n",
              "    </tr>\n",
              "    <tr>\n",
              "      <th>1</th>\n",
              "      <td>20070701</td>\n",
              "      <td>122800</td>\n",
              "      <td>5594</td>\n",
              "      <td>102</td>\n",
              "      <td>冷麺定食</td>\n",
              "      <td>1130</td>\n",
              "      <td>2</td>\n",
              "    </tr>\n",
              "    <tr>\n",
              "      <th>2</th>\n",
              "      <td>20070701</td>\n",
              "      <td>120800</td>\n",
              "      <td>5595</td>\n",
              "      <td>105</td>\n",
              "      <td>オリジナル３品盛り合わせ</td>\n",
              "      <td>880</td>\n",
              "      <td>1</td>\n",
              "    </tr>\n",
              "  </tbody>\n",
              "</table>\n",
              "</div>"
            ],
            "text/plain": [
              "       date    time  receipt  itemID          item  price  quantity\n",
              "0  20070701  115200     5589     107        和牛焼肉弁当   1240         1\n",
              "1  20070701  122800     5594     102          冷麺定食   1130         2\n",
              "2  20070701  120800     5595     105  オリジナル３品盛り合わせ    880         1"
            ]
          },
          "metadata": {
            "tags": []
          },
          "execution_count": 107
        }
      ]
    },
    {
      "cell_type": "code",
      "metadata": {
        "colab": {
          "base_uri": "https://localhost:8080/",
          "height": 419
        },
        "id": "vnltAWFvinps",
        "outputId": "291a8650-9e0e-4ab4-9d7c-966f40aaff93"
      },
      "source": [
        "df.loc[:, [\"date\", \"time\"]]"
      ],
      "execution_count": null,
      "outputs": [
        {
          "output_type": "execute_result",
          "data": {
            "text/html": [
              "<div>\n",
              "<style scoped>\n",
              "    .dataframe tbody tr th:only-of-type {\n",
              "        vertical-align: middle;\n",
              "    }\n",
              "\n",
              "    .dataframe tbody tr th {\n",
              "        vertical-align: top;\n",
              "    }\n",
              "\n",
              "    .dataframe thead th {\n",
              "        text-align: right;\n",
              "    }\n",
              "</style>\n",
              "<table border=\"1\" class=\"dataframe\">\n",
              "  <thead>\n",
              "    <tr style=\"text-align: right;\">\n",
              "      <th></th>\n",
              "      <th>date</th>\n",
              "      <th>time</th>\n",
              "    </tr>\n",
              "  </thead>\n",
              "  <tbody>\n",
              "    <tr>\n",
              "      <th>0</th>\n",
              "      <td>20070701</td>\n",
              "      <td>115200</td>\n",
              "    </tr>\n",
              "    <tr>\n",
              "      <th>1</th>\n",
              "      <td>20070701</td>\n",
              "      <td>122800</td>\n",
              "    </tr>\n",
              "    <tr>\n",
              "      <th>2</th>\n",
              "      <td>20070701</td>\n",
              "      <td>120800</td>\n",
              "    </tr>\n",
              "    <tr>\n",
              "      <th>3</th>\n",
              "      <td>20070701</td>\n",
              "      <td>120800</td>\n",
              "    </tr>\n",
              "    <tr>\n",
              "      <th>4</th>\n",
              "      <td>20070701</td>\n",
              "      <td>122600</td>\n",
              "    </tr>\n",
              "    <tr>\n",
              "      <th>...</th>\n",
              "      <td>...</td>\n",
              "      <td>...</td>\n",
              "    </tr>\n",
              "    <tr>\n",
              "      <th>108242</th>\n",
              "      <td>20081014</td>\n",
              "      <td>210300</td>\n",
              "    </tr>\n",
              "    <tr>\n",
              "      <th>108243</th>\n",
              "      <td>20081014</td>\n",
              "      <td>210300</td>\n",
              "    </tr>\n",
              "    <tr>\n",
              "      <th>108244</th>\n",
              "      <td>20081014</td>\n",
              "      <td>210300</td>\n",
              "    </tr>\n",
              "    <tr>\n",
              "      <th>108245</th>\n",
              "      <td>20081014</td>\n",
              "      <td>210300</td>\n",
              "    </tr>\n",
              "    <tr>\n",
              "      <th>108246</th>\n",
              "      <td>20081014</td>\n",
              "      <td>210300</td>\n",
              "    </tr>\n",
              "  </tbody>\n",
              "</table>\n",
              "<p>108247 rows × 2 columns</p>\n",
              "</div>"
            ],
            "text/plain": [
              "            date    time\n",
              "0       20070701  115200\n",
              "1       20070701  122800\n",
              "2       20070701  120800\n",
              "3       20070701  120800\n",
              "4       20070701  122600\n",
              "...          ...     ...\n",
              "108242  20081014  210300\n",
              "108243  20081014  210300\n",
              "108244  20081014  210300\n",
              "108245  20081014  210300\n",
              "108246  20081014  210300\n",
              "\n",
              "[108247 rows x 2 columns]"
            ]
          },
          "metadata": {
            "tags": []
          },
          "execution_count": 9
        }
      ]
    },
    {
      "cell_type": "code",
      "metadata": {
        "colab": {
          "base_uri": "https://localhost:8080/",
          "height": 142
        },
        "id": "BBdZ34W5jFvP",
        "outputId": "ac6f5b42-6cbd-467c-8bac-00a7ed1e3e8e"
      },
      "source": [
        "df.loc[:, [\"date\", \"time\"]].head(3)"
      ],
      "execution_count": null,
      "outputs": [
        {
          "output_type": "execute_result",
          "data": {
            "text/html": [
              "<div>\n",
              "<style scoped>\n",
              "    .dataframe tbody tr th:only-of-type {\n",
              "        vertical-align: middle;\n",
              "    }\n",
              "\n",
              "    .dataframe tbody tr th {\n",
              "        vertical-align: top;\n",
              "    }\n",
              "\n",
              "    .dataframe thead th {\n",
              "        text-align: right;\n",
              "    }\n",
              "</style>\n",
              "<table border=\"1\" class=\"dataframe\">\n",
              "  <thead>\n",
              "    <tr style=\"text-align: right;\">\n",
              "      <th></th>\n",
              "      <th>date</th>\n",
              "      <th>time</th>\n",
              "    </tr>\n",
              "  </thead>\n",
              "  <tbody>\n",
              "    <tr>\n",
              "      <th>0</th>\n",
              "      <td>20070701</td>\n",
              "      <td>115200</td>\n",
              "    </tr>\n",
              "    <tr>\n",
              "      <th>1</th>\n",
              "      <td>20070701</td>\n",
              "      <td>122800</td>\n",
              "    </tr>\n",
              "    <tr>\n",
              "      <th>2</th>\n",
              "      <td>20070701</td>\n",
              "      <td>120800</td>\n",
              "    </tr>\n",
              "  </tbody>\n",
              "</table>\n",
              "</div>"
            ],
            "text/plain": [
              "       date    time\n",
              "0  20070701  115200\n",
              "1  20070701  122800\n",
              "2  20070701  120800"
            ]
          },
          "metadata": {
            "tags": []
          },
          "execution_count": 10
        }
      ]
    },
    {
      "cell_type": "code",
      "metadata": {
        "colab": {
          "base_uri": "https://localhost:8080/",
          "height": 142
        },
        "id": "D14H8o8zjLk5",
        "outputId": "7e7bf0cc-6a5b-4fb2-e2c7-ee79db676ee6"
      },
      "source": [
        "df.loc[:, [\"date\", \"time\"]].tail(3)"
      ],
      "execution_count": null,
      "outputs": [
        {
          "output_type": "execute_result",
          "data": {
            "text/html": [
              "<div>\n",
              "<style scoped>\n",
              "    .dataframe tbody tr th:only-of-type {\n",
              "        vertical-align: middle;\n",
              "    }\n",
              "\n",
              "    .dataframe tbody tr th {\n",
              "        vertical-align: top;\n",
              "    }\n",
              "\n",
              "    .dataframe thead th {\n",
              "        text-align: right;\n",
              "    }\n",
              "</style>\n",
              "<table border=\"1\" class=\"dataframe\">\n",
              "  <thead>\n",
              "    <tr style=\"text-align: right;\">\n",
              "      <th></th>\n",
              "      <th>date</th>\n",
              "      <th>time</th>\n",
              "    </tr>\n",
              "  </thead>\n",
              "  <tbody>\n",
              "    <tr>\n",
              "      <th>108244</th>\n",
              "      <td>20081014</td>\n",
              "      <td>210300</td>\n",
              "    </tr>\n",
              "    <tr>\n",
              "      <th>108245</th>\n",
              "      <td>20081014</td>\n",
              "      <td>210300</td>\n",
              "    </tr>\n",
              "    <tr>\n",
              "      <th>108246</th>\n",
              "      <td>20081014</td>\n",
              "      <td>210300</td>\n",
              "    </tr>\n",
              "  </tbody>\n",
              "</table>\n",
              "</div>"
            ],
            "text/plain": [
              "            date    time\n",
              "108244  20081014  210300\n",
              "108245  20081014  210300\n",
              "108246  20081014  210300"
            ]
          },
          "metadata": {
            "tags": []
          },
          "execution_count": 11
        }
      ]
    },
    {
      "cell_type": "code",
      "metadata": {
        "colab": {
          "base_uri": "https://localhost:8080/",
          "height": 142
        },
        "id": "E-wzk3x2mXwG",
        "outputId": "2eb9aab3-40ba-458e-9178-bc2cea4c0cf8"
      },
      "source": [
        "# 検索\n",
        "df.query('price == 880').head(3)"
      ],
      "execution_count": null,
      "outputs": [
        {
          "output_type": "execute_result",
          "data": {
            "text/html": [
              "<div>\n",
              "<style scoped>\n",
              "    .dataframe tbody tr th:only-of-type {\n",
              "        vertical-align: middle;\n",
              "    }\n",
              "\n",
              "    .dataframe tbody tr th {\n",
              "        vertical-align: top;\n",
              "    }\n",
              "\n",
              "    .dataframe thead th {\n",
              "        text-align: right;\n",
              "    }\n",
              "</style>\n",
              "<table border=\"1\" class=\"dataframe\">\n",
              "  <thead>\n",
              "    <tr style=\"text-align: right;\">\n",
              "      <th></th>\n",
              "      <th>date</th>\n",
              "      <th>time</th>\n",
              "      <th>receipt</th>\n",
              "      <th>itemID</th>\n",
              "      <th>item</th>\n",
              "      <th>price</th>\n",
              "      <th>quantity</th>\n",
              "    </tr>\n",
              "  </thead>\n",
              "  <tbody>\n",
              "    <tr>\n",
              "      <th>2</th>\n",
              "      <td>20070701</td>\n",
              "      <td>120800</td>\n",
              "      <td>5595</td>\n",
              "      <td>105</td>\n",
              "      <td>オリジナル３品盛り合わせ</td>\n",
              "      <td>880</td>\n",
              "      <td>1</td>\n",
              "    </tr>\n",
              "    <tr>\n",
              "      <th>421</th>\n",
              "      <td>20070702</td>\n",
              "      <td>122700</td>\n",
              "      <td>5651</td>\n",
              "      <td>105</td>\n",
              "      <td>オリジナル３品盛り合わせ</td>\n",
              "      <td>880</td>\n",
              "      <td>1</td>\n",
              "    </tr>\n",
              "    <tr>\n",
              "      <th>424</th>\n",
              "      <td>20070702</td>\n",
              "      <td>121500</td>\n",
              "      <td>5653</td>\n",
              "      <td>105</td>\n",
              "      <td>オリジナル３品盛り合わせ</td>\n",
              "      <td>880</td>\n",
              "      <td>1</td>\n",
              "    </tr>\n",
              "  </tbody>\n",
              "</table>\n",
              "</div>"
            ],
            "text/plain": [
              "         date    time  receipt  itemID          item  price  quantity\n",
              "2    20070701  120800     5595     105  オリジナル３品盛り合わせ    880         1\n",
              "421  20070702  122700     5651     105  オリジナル３品盛り合わせ    880         1\n",
              "424  20070702  121500     5653     105  オリジナル３品盛り合わせ    880         1"
            ]
          },
          "metadata": {
            "tags": []
          },
          "execution_count": 4
        }
      ]
    },
    {
      "cell_type": "code",
      "metadata": {
        "colab": {
          "base_uri": "https://localhost:8080/",
          "height": 142
        },
        "id": "64aK1Wh1nxoT",
        "outputId": "bd106685-036f-426c-ac7f-facc51857b72"
      },
      "source": [
        "# 検索結果に対して、列選択\n",
        "df.query('price < 1000').loc[:, [\"time\", \"item\"]].head(3)"
      ],
      "execution_count": null,
      "outputs": [
        {
          "output_type": "execute_result",
          "data": {
            "text/html": [
              "<div>\n",
              "<style scoped>\n",
              "    .dataframe tbody tr th:only-of-type {\n",
              "        vertical-align: middle;\n",
              "    }\n",
              "\n",
              "    .dataframe tbody tr th {\n",
              "        vertical-align: top;\n",
              "    }\n",
              "\n",
              "    .dataframe thead th {\n",
              "        text-align: right;\n",
              "    }\n",
              "</style>\n",
              "<table border=\"1\" class=\"dataframe\">\n",
              "  <thead>\n",
              "    <tr style=\"text-align: right;\">\n",
              "      <th></th>\n",
              "      <th>time</th>\n",
              "      <th>item</th>\n",
              "    </tr>\n",
              "  </thead>\n",
              "  <tbody>\n",
              "    <tr>\n",
              "      <th>2</th>\n",
              "      <td>120800</td>\n",
              "      <td>オリジナル３品盛り合わせ</td>\n",
              "    </tr>\n",
              "    <tr>\n",
              "      <th>16</th>\n",
              "      <td>135400</td>\n",
              "      <td>生レバー刺身</td>\n",
              "    </tr>\n",
              "    <tr>\n",
              "      <th>18</th>\n",
              "      <td>174700</td>\n",
              "      <td>生レバー刺身</td>\n",
              "    </tr>\n",
              "  </tbody>\n",
              "</table>\n",
              "</div>"
            ],
            "text/plain": [
              "      time          item\n",
              "2   120800  オリジナル３品盛り合わせ\n",
              "16  135400        生レバー刺身\n",
              "18  174700        生レバー刺身"
            ]
          },
          "metadata": {
            "tags": []
          },
          "execution_count": 27
        }
      ]
    },
    {
      "cell_type": "code",
      "metadata": {
        "colab": {
          "base_uri": "https://localhost:8080/",
          "height": 142
        },
        "id": "0My_nqA5jRLF",
        "outputId": "0e2ccab9-bc80-42df-8a40-a00947bf4239"
      },
      "source": [
        "# 検索 (or)\n",
        "df.query('price < 1000 or time > 170000').head(3)"
      ],
      "execution_count": null,
      "outputs": [
        {
          "output_type": "execute_result",
          "data": {
            "text/html": [
              "<div>\n",
              "<style scoped>\n",
              "    .dataframe tbody tr th:only-of-type {\n",
              "        vertical-align: middle;\n",
              "    }\n",
              "\n",
              "    .dataframe tbody tr th {\n",
              "        vertical-align: top;\n",
              "    }\n",
              "\n",
              "    .dataframe thead th {\n",
              "        text-align: right;\n",
              "    }\n",
              "</style>\n",
              "<table border=\"1\" class=\"dataframe\">\n",
              "  <thead>\n",
              "    <tr style=\"text-align: right;\">\n",
              "      <th></th>\n",
              "      <th>date</th>\n",
              "      <th>time</th>\n",
              "      <th>receipt</th>\n",
              "      <th>itemID</th>\n",
              "      <th>item</th>\n",
              "      <th>price</th>\n",
              "      <th>quantity</th>\n",
              "    </tr>\n",
              "  </thead>\n",
              "  <tbody>\n",
              "    <tr>\n",
              "      <th>2</th>\n",
              "      <td>20070701</td>\n",
              "      <td>120800</td>\n",
              "      <td>5595</td>\n",
              "      <td>105</td>\n",
              "      <td>オリジナル３品盛り合わせ</td>\n",
              "      <td>880</td>\n",
              "      <td>1</td>\n",
              "    </tr>\n",
              "    <tr>\n",
              "      <th>16</th>\n",
              "      <td>20070701</td>\n",
              "      <td>135400</td>\n",
              "      <td>5601</td>\n",
              "      <td>403</td>\n",
              "      <td>生レバー刺身</td>\n",
              "      <td>890</td>\n",
              "      <td>1</td>\n",
              "    </tr>\n",
              "    <tr>\n",
              "      <th>17</th>\n",
              "      <td>20070701</td>\n",
              "      <td>174700</td>\n",
              "      <td>5604</td>\n",
              "      <td>401</td>\n",
              "      <td>炙り牛刺し</td>\n",
              "      <td>1040</td>\n",
              "      <td>1</td>\n",
              "    </tr>\n",
              "  </tbody>\n",
              "</table>\n",
              "</div>"
            ],
            "text/plain": [
              "        date    time  receipt  itemID          item  price  quantity\n",
              "2   20070701  120800     5595     105  オリジナル３品盛り合わせ    880         1\n",
              "16  20070701  135400     5601     403        生レバー刺身    890         1\n",
              "17  20070701  174700     5604     401         炙り牛刺し   1040         1"
            ]
          },
          "metadata": {
            "tags": []
          },
          "execution_count": 24
        }
      ]
    },
    {
      "cell_type": "code",
      "metadata": {
        "colab": {
          "base_uri": "https://localhost:8080/",
          "height": 142
        },
        "id": "5_S28CwoFtPM",
        "outputId": "948dced3-c7ac-4776-d532-4dd16e7afd3a"
      },
      "source": [
        "# 検索 (and)\n",
        "df.query('price < 1000 and time > 170000').head(3)"
      ],
      "execution_count": null,
      "outputs": [
        {
          "output_type": "execute_result",
          "data": {
            "text/html": [
              "<div>\n",
              "<style scoped>\n",
              "    .dataframe tbody tr th:only-of-type {\n",
              "        vertical-align: middle;\n",
              "    }\n",
              "\n",
              "    .dataframe tbody tr th {\n",
              "        vertical-align: top;\n",
              "    }\n",
              "\n",
              "    .dataframe thead th {\n",
              "        text-align: right;\n",
              "    }\n",
              "</style>\n",
              "<table border=\"1\" class=\"dataframe\">\n",
              "  <thead>\n",
              "    <tr style=\"text-align: right;\">\n",
              "      <th></th>\n",
              "      <th>date</th>\n",
              "      <th>time</th>\n",
              "      <th>receipt</th>\n",
              "      <th>itemID</th>\n",
              "      <th>item</th>\n",
              "      <th>price</th>\n",
              "      <th>quantity</th>\n",
              "    </tr>\n",
              "  </thead>\n",
              "  <tbody>\n",
              "    <tr>\n",
              "      <th>18</th>\n",
              "      <td>20070701</td>\n",
              "      <td>174700</td>\n",
              "      <td>5604</td>\n",
              "      <td>403</td>\n",
              "      <td>生レバー刺身</td>\n",
              "      <td>890</td>\n",
              "      <td>1</td>\n",
              "    </tr>\n",
              "    <tr>\n",
              "      <th>19</th>\n",
              "      <td>20070701</td>\n",
              "      <td>172500</td>\n",
              "      <td>5605</td>\n",
              "      <td>403</td>\n",
              "      <td>生レバー刺身</td>\n",
              "      <td>890</td>\n",
              "      <td>1</td>\n",
              "    </tr>\n",
              "    <tr>\n",
              "      <th>20</th>\n",
              "      <td>20070701</td>\n",
              "      <td>172500</td>\n",
              "      <td>5605</td>\n",
              "      <td>404</td>\n",
              "      <td>ユッケ</td>\n",
              "      <td>890</td>\n",
              "      <td>1</td>\n",
              "    </tr>\n",
              "  </tbody>\n",
              "</table>\n",
              "</div>"
            ],
            "text/plain": [
              "        date    time  receipt  itemID    item  price  quantity\n",
              "18  20070701  174700     5604     403  生レバー刺身    890         1\n",
              "19  20070701  172500     5605     403  生レバー刺身    890         1\n",
              "20  20070701  172500     5605     404     ユッケ    890         1"
            ]
          },
          "metadata": {
            "tags": []
          },
          "execution_count": 25
        }
      ]
    },
    {
      "cell_type": "code",
      "metadata": {
        "colab": {
          "base_uri": "https://localhost:8080/",
          "height": 142
        },
        "id": "EL39k7y-okbc",
        "outputId": "413ca2da-de58-4d53-fda3-323b2dc1db03"
      },
      "source": [
        "# ソート\n",
        "\n",
        "#昇順\n",
        "ret_df = df.query('price < 1000 and time > 170000').sort_values(by=['price'], ascending=True)\n",
        "ret_df.head(3)\n",
        "\n",
        "#降順\n",
        "ret_df = df.query('price < 1000 and time > 170000').sort_values(by=['price'], ascending=False)\n",
        "ret_df.head(3)\n"
      ],
      "execution_count": null,
      "outputs": [
        {
          "output_type": "execute_result",
          "data": {
            "text/html": [
              "<div>\n",
              "<style scoped>\n",
              "    .dataframe tbody tr th:only-of-type {\n",
              "        vertical-align: middle;\n",
              "    }\n",
              "\n",
              "    .dataframe tbody tr th {\n",
              "        vertical-align: top;\n",
              "    }\n",
              "\n",
              "    .dataframe thead th {\n",
              "        text-align: right;\n",
              "    }\n",
              "</style>\n",
              "<table border=\"1\" class=\"dataframe\">\n",
              "  <thead>\n",
              "    <tr style=\"text-align: right;\">\n",
              "      <th></th>\n",
              "      <th>date</th>\n",
              "      <th>time</th>\n",
              "      <th>receipt</th>\n",
              "      <th>itemID</th>\n",
              "      <th>item</th>\n",
              "      <th>price</th>\n",
              "      <th>quantity</th>\n",
              "    </tr>\n",
              "  </thead>\n",
              "  <tbody>\n",
              "    <tr>\n",
              "      <th>46592</th>\n",
              "      <td>20080104</td>\n",
              "      <td>185900</td>\n",
              "      <td>4396</td>\n",
              "      <td>651</td>\n",
              "      <td>いわて牛上バラ</td>\n",
              "      <td>990</td>\n",
              "      <td>1</td>\n",
              "    </tr>\n",
              "    <tr>\n",
              "      <th>27603</th>\n",
              "      <td>20071013</td>\n",
              "      <td>193900</td>\n",
              "      <td>461</td>\n",
              "      <td>651</td>\n",
              "      <td>いわて牛上バラ</td>\n",
              "      <td>990</td>\n",
              "      <td>1</td>\n",
              "    </tr>\n",
              "    <tr>\n",
              "      <th>6771</th>\n",
              "      <td>20070729</td>\n",
              "      <td>201700</td>\n",
              "      <td>6771</td>\n",
              "      <td>651</td>\n",
              "      <td>いわて牛上バラ</td>\n",
              "      <td>990</td>\n",
              "      <td>2</td>\n",
              "    </tr>\n",
              "  </tbody>\n",
              "</table>\n",
              "</div>"
            ],
            "text/plain": [
              "           date    time  receipt  itemID     item  price  quantity\n",
              "46592  20080104  185900     4396     651  いわて牛上バラ    990         1\n",
              "27603  20071013  193900      461     651  いわて牛上バラ    990         1\n",
              "6771   20070729  201700     6771     651  いわて牛上バラ    990         2"
            ]
          },
          "metadata": {
            "tags": []
          },
          "execution_count": 34
        }
      ]
    },
    {
      "cell_type": "code",
      "metadata": {
        "colab": {
          "base_uri": "https://localhost:8080/",
          "height": 419
        },
        "id": "rKMfuZdwusfA",
        "outputId": "bb7ad5a9-2e8f-468d-e02b-927f238e4453"
      },
      "source": [
        "# パターンマッチング(部分一致)\n",
        "\n",
        "#df.query('item.str.startswith(\"ビール\")', engine='python')\n",
        "#df.query('item.str.endswith(\"ビール\")', engine='python')\n",
        "df.query('item.str.contains(\"ビール\")', engine='python')"
      ],
      "execution_count": null,
      "outputs": [
        {
          "output_type": "execute_result",
          "data": {
            "text/html": [
              "<div>\n",
              "<style scoped>\n",
              "    .dataframe tbody tr th:only-of-type {\n",
              "        vertical-align: middle;\n",
              "    }\n",
              "\n",
              "    .dataframe tbody tr th {\n",
              "        vertical-align: top;\n",
              "    }\n",
              "\n",
              "    .dataframe thead th {\n",
              "        text-align: right;\n",
              "    }\n",
              "</style>\n",
              "<table border=\"1\" class=\"dataframe\">\n",
              "  <thead>\n",
              "    <tr style=\"text-align: right;\">\n",
              "      <th></th>\n",
              "      <th>date</th>\n",
              "      <th>time</th>\n",
              "      <th>receipt</th>\n",
              "      <th>itemID</th>\n",
              "      <th>item</th>\n",
              "      <th>price</th>\n",
              "      <th>quantity</th>\n",
              "    </tr>\n",
              "  </thead>\n",
              "  <tbody>\n",
              "    <tr>\n",
              "      <th>319</th>\n",
              "      <td>20070701</td>\n",
              "      <td>115100</td>\n",
              "      <td>5593</td>\n",
              "      <td>2106</td>\n",
              "      <td>ランチビール</td>\n",
              "      <td>240</td>\n",
              "      <td>2</td>\n",
              "    </tr>\n",
              "    <tr>\n",
              "      <th>320</th>\n",
              "      <td>20070701</td>\n",
              "      <td>115600</td>\n",
              "      <td>5599</td>\n",
              "      <td>2106</td>\n",
              "      <td>ランチビール</td>\n",
              "      <td>240</td>\n",
              "      <td>2</td>\n",
              "    </tr>\n",
              "    <tr>\n",
              "      <th>321</th>\n",
              "      <td>20070701</td>\n",
              "      <td>174400</td>\n",
              "      <td>5604</td>\n",
              "      <td>2101</td>\n",
              "      <td>生ビール中</td>\n",
              "      <td>460</td>\n",
              "      <td>1</td>\n",
              "    </tr>\n",
              "    <tr>\n",
              "      <th>322</th>\n",
              "      <td>20070701</td>\n",
              "      <td>170800</td>\n",
              "      <td>5606</td>\n",
              "      <td>2101</td>\n",
              "      <td>生ビール中</td>\n",
              "      <td>460</td>\n",
              "      <td>4</td>\n",
              "    </tr>\n",
              "    <tr>\n",
              "      <th>323</th>\n",
              "      <td>20070701</td>\n",
              "      <td>182400</td>\n",
              "      <td>5607</td>\n",
              "      <td>2101</td>\n",
              "      <td>生ビール中</td>\n",
              "      <td>460</td>\n",
              "      <td>1</td>\n",
              "    </tr>\n",
              "    <tr>\n",
              "      <th>...</th>\n",
              "      <td>...</td>\n",
              "      <td>...</td>\n",
              "      <td>...</td>\n",
              "      <td>...</td>\n",
              "      <td>...</td>\n",
              "      <td>...</td>\n",
              "      <td>...</td>\n",
              "    </tr>\n",
              "    <tr>\n",
              "      <th>108210</th>\n",
              "      <td>20081014</td>\n",
              "      <td>183500</td>\n",
              "      <td>6864</td>\n",
              "      <td>2101</td>\n",
              "      <td>生ビール中</td>\n",
              "      <td>460</td>\n",
              "      <td>2</td>\n",
              "    </tr>\n",
              "    <tr>\n",
              "      <th>108211</th>\n",
              "      <td>20081014</td>\n",
              "      <td>191100</td>\n",
              "      <td>6865</td>\n",
              "      <td>2102</td>\n",
              "      <td>生ビール小</td>\n",
              "      <td>270</td>\n",
              "      <td>3</td>\n",
              "    </tr>\n",
              "    <tr>\n",
              "      <th>108212</th>\n",
              "      <td>20081014</td>\n",
              "      <td>203400</td>\n",
              "      <td>6866</td>\n",
              "      <td>2101</td>\n",
              "      <td>生ビール中</td>\n",
              "      <td>460</td>\n",
              "      <td>1</td>\n",
              "    </tr>\n",
              "    <tr>\n",
              "      <th>108213</th>\n",
              "      <td>20081014</td>\n",
              "      <td>205600</td>\n",
              "      <td>6866</td>\n",
              "      <td>2102</td>\n",
              "      <td>生ビール小</td>\n",
              "      <td>270</td>\n",
              "      <td>1</td>\n",
              "    </tr>\n",
              "    <tr>\n",
              "      <th>108214</th>\n",
              "      <td>20081014</td>\n",
              "      <td>205600</td>\n",
              "      <td>6867</td>\n",
              "      <td>2101</td>\n",
              "      <td>生ビール中</td>\n",
              "      <td>460</td>\n",
              "      <td>5</td>\n",
              "    </tr>\n",
              "  </tbody>\n",
              "</table>\n",
              "<p>7278 rows × 7 columns</p>\n",
              "</div>"
            ],
            "text/plain": [
              "            date    time  receipt  itemID    item  price  quantity\n",
              "319     20070701  115100     5593    2106  ランチビール    240         2\n",
              "320     20070701  115600     5599    2106  ランチビール    240         2\n",
              "321     20070701  174400     5604    2101   生ビール中    460         1\n",
              "322     20070701  170800     5606    2101   生ビール中    460         4\n",
              "323     20070701  182400     5607    2101   生ビール中    460         1\n",
              "...          ...     ...      ...     ...     ...    ...       ...\n",
              "108210  20081014  183500     6864    2101   生ビール中    460         2\n",
              "108211  20081014  191100     6865    2102   生ビール小    270         3\n",
              "108212  20081014  203400     6866    2101   生ビール中    460         1\n",
              "108213  20081014  205600     6866    2102   生ビール小    270         1\n",
              "108214  20081014  205600     6867    2101   生ビール中    460         5\n",
              "\n",
              "[7278 rows x 7 columns]"
            ]
          },
          "metadata": {
            "tags": []
          },
          "execution_count": 19
        }
      ]
    },
    {
      "cell_type": "code",
      "metadata": {
        "colab": {
          "base_uri": "https://localhost:8080/"
        },
        "id": "TWXRRYeqrlNf",
        "outputId": "53b17561-2a54-4cd4-806e-ea76f493ff76"
      },
      "source": [
        "# 集合関数\n",
        "\n",
        "ret_df_sum = df['price'].sum()\n",
        "ret_df_avg = df['price'].mean()\n",
        "ret_df_min = df['price'].min()\n",
        "ret_df_max = df['price'].max()\n",
        "ret_df_count = len(df)\n",
        "ret_df_count_distinct = len(df['item'].unique())\n",
        "\n",
        "print(ret_df_sum)\n",
        "print(ret_df_avg)\n",
        "print(ret_df_min)\n",
        "print(ret_df_max)\n",
        "print(ret_df_count)\n",
        "print(ret_df_count_distinct)"
      ],
      "execution_count": null,
      "outputs": [
        {
          "output_type": "stream",
          "text": [
            "91772640\n",
            "847.8076990586344\n",
            "0\n",
            "6690\n",
            "108247\n",
            "793\n"
          ],
          "name": "stdout"
        }
      ]
    },
    {
      "cell_type": "code",
      "metadata": {
        "colab": {
          "base_uri": "https://localhost:8080/",
          "height": 297
        },
        "id": "2LZ2N6u8GqCj",
        "outputId": "c6b1185e-373c-4986-e146-7642ffcdf72e"
      },
      "source": [
        "# 通常検索 in演算子\n",
        "df.query('price > 4900 and date in (20070701, 20081009)')"
      ],
      "execution_count": null,
      "outputs": [
        {
          "output_type": "execute_result",
          "data": {
            "text/html": [
              "<div>\n",
              "<style scoped>\n",
              "    .dataframe tbody tr th:only-of-type {\n",
              "        vertical-align: middle;\n",
              "    }\n",
              "\n",
              "    .dataframe tbody tr th {\n",
              "        vertical-align: top;\n",
              "    }\n",
              "\n",
              "    .dataframe thead th {\n",
              "        text-align: right;\n",
              "    }\n",
              "</style>\n",
              "<table border=\"1\" class=\"dataframe\">\n",
              "  <thead>\n",
              "    <tr style=\"text-align: right;\">\n",
              "      <th></th>\n",
              "      <th>date</th>\n",
              "      <th>time</th>\n",
              "      <th>receipt</th>\n",
              "      <th>itemID</th>\n",
              "      <th>item</th>\n",
              "      <th>price</th>\n",
              "      <th>quantity</th>\n",
              "    </tr>\n",
              "  </thead>\n",
              "  <tbody>\n",
              "    <tr>\n",
              "      <th>120</th>\n",
              "      <td>20070701</td>\n",
              "      <td>171300</td>\n",
              "      <td>5606</td>\n",
              "      <td>685</td>\n",
              "      <td>ファミリーセット</td>\n",
              "      <td>5520</td>\n",
              "      <td>1</td>\n",
              "    </tr>\n",
              "    <tr>\n",
              "      <th>126</th>\n",
              "      <td>20070701</td>\n",
              "      <td>180600</td>\n",
              "      <td>5609</td>\n",
              "      <td>685</td>\n",
              "      <td>ファミリーセット</td>\n",
              "      <td>5520</td>\n",
              "      <td>1</td>\n",
              "    </tr>\n",
              "    <tr>\n",
              "      <th>129</th>\n",
              "      <td>20070701</td>\n",
              "      <td>181300</td>\n",
              "      <td>5610</td>\n",
              "      <td>685</td>\n",
              "      <td>ファミリーセット</td>\n",
              "      <td>5520</td>\n",
              "      <td>1</td>\n",
              "    </tr>\n",
              "    <tr>\n",
              "      <th>160</th>\n",
              "      <td>20070701</td>\n",
              "      <td>183100</td>\n",
              "      <td>5618</td>\n",
              "      <td>684</td>\n",
              "      <td>オリジナル盛り合わせセット</td>\n",
              "      <td>4980</td>\n",
              "      <td>1</td>\n",
              "    </tr>\n",
              "    <tr>\n",
              "      <th>163</th>\n",
              "      <td>20070701</td>\n",
              "      <td>183800</td>\n",
              "      <td>5619</td>\n",
              "      <td>684</td>\n",
              "      <td>オリジナル盛り合わせセット</td>\n",
              "      <td>4980</td>\n",
              "      <td>1</td>\n",
              "    </tr>\n",
              "    <tr>\n",
              "      <th>106420</th>\n",
              "      <td>20081009</td>\n",
              "      <td>183000</td>\n",
              "      <td>6616</td>\n",
              "      <td>929</td>\n",
              "      <td>本日の最高の盛り合わせ</td>\n",
              "      <td>4910</td>\n",
              "      <td>1</td>\n",
              "    </tr>\n",
              "    <tr>\n",
              "      <th>106421</th>\n",
              "      <td>20081009</td>\n",
              "      <td>184000</td>\n",
              "      <td>6617</td>\n",
              "      <td>929</td>\n",
              "      <td>本日の最高の盛り合わせ</td>\n",
              "      <td>4910</td>\n",
              "      <td>1</td>\n",
              "    </tr>\n",
              "    <tr>\n",
              "      <th>106422</th>\n",
              "      <td>20081009</td>\n",
              "      <td>184000</td>\n",
              "      <td>6618</td>\n",
              "      <td>929</td>\n",
              "      <td>本日の最高の盛り合わせ</td>\n",
              "      <td>4910</td>\n",
              "      <td>1</td>\n",
              "    </tr>\n",
              "  </tbody>\n",
              "</table>\n",
              "</div>"
            ],
            "text/plain": [
              "            date    time  receipt  itemID           item  price  quantity\n",
              "120     20070701  171300     5606     685       ファミリーセット   5520         1\n",
              "126     20070701  180600     5609     685       ファミリーセット   5520         1\n",
              "129     20070701  181300     5610     685       ファミリーセット   5520         1\n",
              "160     20070701  183100     5618     684  オリジナル盛り合わせセット   4980         1\n",
              "163     20070701  183800     5619     684  オリジナル盛り合わせセット   4980         1\n",
              "106420  20081009  183000     6616     929    本日の最高の盛り合わせ   4910         1\n",
              "106421  20081009  184000     6617     929    本日の最高の盛り合わせ   4910         1\n",
              "106422  20081009  184000     6618     929    本日の最高の盛り合わせ   4910         1"
            ]
          },
          "metadata": {
            "tags": []
          },
          "execution_count": 8
        }
      ]
    },
    {
      "cell_type": "code",
      "metadata": {
        "colab": {
          "base_uri": "https://localhost:8080/",
          "height": 419
        },
        "id": "AA_L23d-M_Nj",
        "outputId": "a4228989-93e8-4e15-a0a7-0949e313a27f"
      },
      "source": [
        "df.query('date >= 20070701 and date <= 20070809')"
      ],
      "execution_count": null,
      "outputs": [
        {
          "output_type": "execute_result",
          "data": {
            "text/html": [
              "<div>\n",
              "<style scoped>\n",
              "    .dataframe tbody tr th:only-of-type {\n",
              "        vertical-align: middle;\n",
              "    }\n",
              "\n",
              "    .dataframe tbody tr th {\n",
              "        vertical-align: top;\n",
              "    }\n",
              "\n",
              "    .dataframe thead th {\n",
              "        text-align: right;\n",
              "    }\n",
              "</style>\n",
              "<table border=\"1\" class=\"dataframe\">\n",
              "  <thead>\n",
              "    <tr style=\"text-align: right;\">\n",
              "      <th></th>\n",
              "      <th>date</th>\n",
              "      <th>time</th>\n",
              "      <th>receipt</th>\n",
              "      <th>itemID</th>\n",
              "      <th>item</th>\n",
              "      <th>price</th>\n",
              "      <th>quantity</th>\n",
              "    </tr>\n",
              "  </thead>\n",
              "  <tbody>\n",
              "    <tr>\n",
              "      <th>0</th>\n",
              "      <td>20070701</td>\n",
              "      <td>115200</td>\n",
              "      <td>5589</td>\n",
              "      <td>107</td>\n",
              "      <td>和牛焼肉弁当</td>\n",
              "      <td>1240</td>\n",
              "      <td>1</td>\n",
              "    </tr>\n",
              "    <tr>\n",
              "      <th>1</th>\n",
              "      <td>20070701</td>\n",
              "      <td>122800</td>\n",
              "      <td>5594</td>\n",
              "      <td>102</td>\n",
              "      <td>冷麺定食</td>\n",
              "      <td>1130</td>\n",
              "      <td>2</td>\n",
              "    </tr>\n",
              "    <tr>\n",
              "      <th>2</th>\n",
              "      <td>20070701</td>\n",
              "      <td>120800</td>\n",
              "      <td>5595</td>\n",
              "      <td>105</td>\n",
              "      <td>オリジナル３品盛り合わせ</td>\n",
              "      <td>880</td>\n",
              "      <td>1</td>\n",
              "    </tr>\n",
              "    <tr>\n",
              "      <th>3</th>\n",
              "      <td>20070701</td>\n",
              "      <td>120800</td>\n",
              "      <td>5595</td>\n",
              "      <td>107</td>\n",
              "      <td>和牛焼肉弁当</td>\n",
              "      <td>1240</td>\n",
              "      <td>1</td>\n",
              "    </tr>\n",
              "    <tr>\n",
              "      <th>4</th>\n",
              "      <td>20070701</td>\n",
              "      <td>122600</td>\n",
              "      <td>5596</td>\n",
              "      <td>107</td>\n",
              "      <td>和牛焼肉弁当</td>\n",
              "      <td>1240</td>\n",
              "      <td>1</td>\n",
              "    </tr>\n",
              "    <tr>\n",
              "      <th>...</th>\n",
              "      <td>...</td>\n",
              "      <td>...</td>\n",
              "      <td>...</td>\n",
              "      <td>...</td>\n",
              "      <td>...</td>\n",
              "      <td>...</td>\n",
              "      <td>...</td>\n",
              "    </tr>\n",
              "    <tr>\n",
              "      <th>9540</th>\n",
              "      <td>20070809</td>\n",
              "      <td>183900</td>\n",
              "      <td>7203</td>\n",
              "      <td>4135</td>\n",
              "      <td>・ソーダ割り</td>\n",
              "      <td>0</td>\n",
              "      <td>1</td>\n",
              "    </tr>\n",
              "    <tr>\n",
              "      <th>9541</th>\n",
              "      <td>20070809</td>\n",
              "      <td>201100</td>\n",
              "      <td>7208</td>\n",
              "      <td>4132</td>\n",
              "      <td>・水割り</td>\n",
              "      <td>0</td>\n",
              "      <td>1</td>\n",
              "    </tr>\n",
              "    <tr>\n",
              "      <th>9542</th>\n",
              "      <td>20070809</td>\n",
              "      <td>204300</td>\n",
              "      <td>7208</td>\n",
              "      <td>4135</td>\n",
              "      <td>・ソーダ割り</td>\n",
              "      <td>0</td>\n",
              "      <td>2</td>\n",
              "    </tr>\n",
              "    <tr>\n",
              "      <th>9543</th>\n",
              "      <td>20070809</td>\n",
              "      <td>210100</td>\n",
              "      <td>7208</td>\n",
              "      <td>4131</td>\n",
              "      <td>・ロック</td>\n",
              "      <td>0</td>\n",
              "      <td>1</td>\n",
              "    </tr>\n",
              "    <tr>\n",
              "      <th>9544</th>\n",
              "      <td>20070809</td>\n",
              "      <td>222600</td>\n",
              "      <td>7209</td>\n",
              "      <td>4132</td>\n",
              "      <td>・水割り</td>\n",
              "      <td>0</td>\n",
              "      <td>2</td>\n",
              "    </tr>\n",
              "  </tbody>\n",
              "</table>\n",
              "<p>9545 rows × 7 columns</p>\n",
              "</div>"
            ],
            "text/plain": [
              "          date    time  receipt  itemID          item  price  quantity\n",
              "0     20070701  115200     5589     107        和牛焼肉弁当   1240         1\n",
              "1     20070701  122800     5594     102          冷麺定食   1130         2\n",
              "2     20070701  120800     5595     105  オリジナル３品盛り合わせ    880         1\n",
              "3     20070701  120800     5595     107        和牛焼肉弁当   1240         1\n",
              "4     20070701  122600     5596     107        和牛焼肉弁当   1240         1\n",
              "...        ...     ...      ...     ...           ...    ...       ...\n",
              "9540  20070809  183900     7203    4135        ・ソーダ割り      0         1\n",
              "9541  20070809  201100     7208    4132          ・水割り      0         1\n",
              "9542  20070809  204300     7208    4135        ・ソーダ割り      0         2\n",
              "9543  20070809  210100     7208    4131          ・ロック      0         1\n",
              "9544  20070809  222600     7209    4132          ・水割り      0         2\n",
              "\n",
              "[9545 rows x 7 columns]"
            ]
          },
          "metadata": {
            "tags": []
          },
          "execution_count": 18
        }
      ]
    },
    {
      "cell_type": "code",
      "metadata": {
        "colab": {
          "base_uri": "https://localhost:8080/",
          "height": 142
        },
        "id": "-gUerK5uG-TL",
        "outputId": "d930d8ed-7369-4ffa-e408-d5e673493445"
      },
      "source": [
        "# 文字列を含む検索\n",
        "ret_df = df.query('item == \"ファミリーセット\"')\n",
        "ret_df.head(3)"
      ],
      "execution_count": null,
      "outputs": [
        {
          "output_type": "execute_result",
          "data": {
            "text/html": [
              "<div>\n",
              "<style scoped>\n",
              "    .dataframe tbody tr th:only-of-type {\n",
              "        vertical-align: middle;\n",
              "    }\n",
              "\n",
              "    .dataframe tbody tr th {\n",
              "        vertical-align: top;\n",
              "    }\n",
              "\n",
              "    .dataframe thead th {\n",
              "        text-align: right;\n",
              "    }\n",
              "</style>\n",
              "<table border=\"1\" class=\"dataframe\">\n",
              "  <thead>\n",
              "    <tr style=\"text-align: right;\">\n",
              "      <th></th>\n",
              "      <th>date</th>\n",
              "      <th>time</th>\n",
              "      <th>receipt</th>\n",
              "      <th>itemID</th>\n",
              "      <th>item</th>\n",
              "      <th>price</th>\n",
              "      <th>quantity</th>\n",
              "    </tr>\n",
              "  </thead>\n",
              "  <tbody>\n",
              "    <tr>\n",
              "      <th>120</th>\n",
              "      <td>20070701</td>\n",
              "      <td>171300</td>\n",
              "      <td>5606</td>\n",
              "      <td>685</td>\n",
              "      <td>ファミリーセット</td>\n",
              "      <td>5520</td>\n",
              "      <td>1</td>\n",
              "    </tr>\n",
              "    <tr>\n",
              "      <th>126</th>\n",
              "      <td>20070701</td>\n",
              "      <td>180600</td>\n",
              "      <td>5609</td>\n",
              "      <td>685</td>\n",
              "      <td>ファミリーセット</td>\n",
              "      <td>5520</td>\n",
              "      <td>1</td>\n",
              "    </tr>\n",
              "    <tr>\n",
              "      <th>129</th>\n",
              "      <td>20070701</td>\n",
              "      <td>181300</td>\n",
              "      <td>5610</td>\n",
              "      <td>685</td>\n",
              "      <td>ファミリーセット</td>\n",
              "      <td>5520</td>\n",
              "      <td>1</td>\n",
              "    </tr>\n",
              "  </tbody>\n",
              "</table>\n",
              "</div>"
            ],
            "text/plain": [
              "         date    time  receipt  itemID      item  price  quantity\n",
              "120  20070701  171300     5606     685  ファミリーセット   5520         1\n",
              "126  20070701  180600     5609     685  ファミリーセット   5520         1\n",
              "129  20070701  181300     5610     685  ファミリーセット   5520         1"
            ]
          },
          "metadata": {
            "tags": []
          },
          "execution_count": 6
        }
      ]
    },
    {
      "cell_type": "code",
      "metadata": {
        "colab": {
          "base_uri": "https://localhost:8080/"
        },
        "id": "rTy0a56x4tnf",
        "outputId": "b2317084-378c-492f-c7ae-8636d2ccfec3"
      },
      "source": [
        "%%time\n",
        "ret_df = df.groupby(\"date\").mean().loc[:, [\"price\"]]"
      ],
      "execution_count": null,
      "outputs": [
        {
          "output_type": "stream",
          "text": [
            "CPU times: user 10.2 ms, sys: 1.92 ms, total: 12.1 ms\n",
            "Wall time: 14.8 ms\n"
          ],
          "name": "stdout"
        }
      ]
    },
    {
      "cell_type": "code",
      "metadata": {
        "colab": {
          "base_uri": "https://localhost:8080/",
          "height": 173
        },
        "id": "v_DEdYYiAOj3",
        "outputId": "115a244e-2352-413e-98ec-25f36dcdd1e6"
      },
      "source": [
        "ret_df.head(3)"
      ],
      "execution_count": null,
      "outputs": [
        {
          "output_type": "execute_result",
          "data": {
            "text/html": [
              "<div>\n",
              "<style scoped>\n",
              "    .dataframe tbody tr th:only-of-type {\n",
              "        vertical-align: middle;\n",
              "    }\n",
              "\n",
              "    .dataframe tbody tr th {\n",
              "        vertical-align: top;\n",
              "    }\n",
              "\n",
              "    .dataframe thead th {\n",
              "        text-align: right;\n",
              "    }\n",
              "</style>\n",
              "<table border=\"1\" class=\"dataframe\">\n",
              "  <thead>\n",
              "    <tr style=\"text-align: right;\">\n",
              "      <th></th>\n",
              "      <th>price</th>\n",
              "    </tr>\n",
              "    <tr>\n",
              "      <th>date</th>\n",
              "      <th></th>\n",
              "    </tr>\n",
              "  </thead>\n",
              "  <tbody>\n",
              "    <tr>\n",
              "      <th>20070701</th>\n",
              "      <td>827.002398</td>\n",
              "    </tr>\n",
              "    <tr>\n",
              "      <th>20070702</th>\n",
              "      <td>929.411765</td>\n",
              "    </tr>\n",
              "    <tr>\n",
              "      <th>20070703</th>\n",
              "      <td>984.915254</td>\n",
              "    </tr>\n",
              "  </tbody>\n",
              "</table>\n",
              "</div>"
            ],
            "text/plain": [
              "               price\n",
              "date                \n",
              "20070701  827.002398\n",
              "20070702  929.411765\n",
              "20070703  984.915254"
            ]
          },
          "metadata": {
            "tags": []
          },
          "execution_count": 113
        }
      ]
    },
    {
      "cell_type": "code",
      "metadata": {
        "colab": {
          "base_uri": "https://localhost:8080/",
          "height": 452
        },
        "id": "SKvYihLE6Fcn",
        "outputId": "18ae0cad-3235-465b-f0ce-3d1fe0c84482"
      },
      "source": [
        "df_mean = df.groupby(\"date\").mean()\n",
        "df_mean.query(\"price > 1000\").loc[:, [\"price\"]]\n",
        "#df_mean.loc[:, [\"price\"]]\n"
      ],
      "execution_count": null,
      "outputs": [
        {
          "output_type": "execute_result",
          "data": {
            "text/html": [
              "<div>\n",
              "<style scoped>\n",
              "    .dataframe tbody tr th:only-of-type {\n",
              "        vertical-align: middle;\n",
              "    }\n",
              "\n",
              "    .dataframe tbody tr th {\n",
              "        vertical-align: top;\n",
              "    }\n",
              "\n",
              "    .dataframe thead th {\n",
              "        text-align: right;\n",
              "    }\n",
              "</style>\n",
              "<table border=\"1\" class=\"dataframe\">\n",
              "  <thead>\n",
              "    <tr style=\"text-align: right;\">\n",
              "      <th></th>\n",
              "      <th>price</th>\n",
              "    </tr>\n",
              "    <tr>\n",
              "      <th>date</th>\n",
              "      <th></th>\n",
              "    </tr>\n",
              "  </thead>\n",
              "  <tbody>\n",
              "    <tr>\n",
              "      <th>20070724</th>\n",
              "      <td>1138.373016</td>\n",
              "    </tr>\n",
              "    <tr>\n",
              "      <th>20070725</th>\n",
              "      <td>1006.656805</td>\n",
              "    </tr>\n",
              "    <tr>\n",
              "      <th>20070726</th>\n",
              "      <td>1018.160000</td>\n",
              "    </tr>\n",
              "    <tr>\n",
              "      <th>20070903</th>\n",
              "      <td>1029.344262</td>\n",
              "    </tr>\n",
              "    <tr>\n",
              "      <th>20071016</th>\n",
              "      <td>1013.809524</td>\n",
              "    </tr>\n",
              "    <tr>\n",
              "      <th>20071017</th>\n",
              "      <td>1028.805970</td>\n",
              "    </tr>\n",
              "    <tr>\n",
              "      <th>20071024</th>\n",
              "      <td>1024.552239</td>\n",
              "    </tr>\n",
              "    <tr>\n",
              "      <th>20071105</th>\n",
              "      <td>1010.101010</td>\n",
              "    </tr>\n",
              "    <tr>\n",
              "      <th>20071207</th>\n",
              "      <td>1008.837209</td>\n",
              "    </tr>\n",
              "    <tr>\n",
              "      <th>20071231</th>\n",
              "      <td>1024.285714</td>\n",
              "    </tr>\n",
              "    <tr>\n",
              "      <th>20080516</th>\n",
              "      <td>1015.967742</td>\n",
              "    </tr>\n",
              "    <tr>\n",
              "      <th>20080714</th>\n",
              "      <td>1035.054945</td>\n",
              "    </tr>\n",
              "  </tbody>\n",
              "</table>\n",
              "</div>"
            ],
            "text/plain": [
              "                price\n",
              "date                 \n",
              "20070724  1138.373016\n",
              "20070725  1006.656805\n",
              "20070726  1018.160000\n",
              "20070903  1029.344262\n",
              "20071016  1013.809524\n",
              "20071017  1028.805970\n",
              "20071024  1024.552239\n",
              "20071105  1010.101010\n",
              "20071207  1008.837209\n",
              "20071231  1024.285714\n",
              "20080516  1015.967742\n",
              "20080714  1035.054945"
            ]
          },
          "metadata": {
            "tags": []
          },
          "execution_count": 27
        }
      ]
    },
    {
      "cell_type": "code",
      "metadata": {
        "colab": {
          "base_uri": "https://localhost:8080/"
        },
        "id": "ESKmTS60rZxI",
        "outputId": "20a60655-43dc-4723-c75d-fe0b13211b6d"
      },
      "source": [
        "!cat yakiniku_jp.csv | grep \"20070701\" | wc -l"
      ],
      "execution_count": null,
      "outputs": [
        {
          "output_type": "stream",
          "text": [
            "417\n"
          ],
          "name": "stdout"
        }
      ]
    },
    {
      "cell_type": "code",
      "metadata": {
        "id": "oaJM5Mam-d8V"
      },
      "source": [
        "from sqlalchemy import create_engine\n",
        "engine = create_engine('sqlite://', echo=False)\n"
      ],
      "execution_count": null,
      "outputs": []
    },
    {
      "cell_type": "code",
      "metadata": {
        "id": "usSvmUyD-1EC"
      },
      "source": [
        "df.to_sql('yakiniku', con=engine)"
      ],
      "execution_count": null,
      "outputs": []
    },
    {
      "cell_type": "code",
      "metadata": {
        "colab": {
          "base_uri": "https://localhost:8080/"
        },
        "id": "OdhzOanX-5rB",
        "outputId": "7f7d6521-9d9f-4755-8bc7-0082db228693"
      },
      "source": [
        "%%time\n",
        "ret = engine.execute(\"SELECT date, avg(price) FROM yakiniku group by date\").fetchall()"
      ],
      "execution_count": null,
      "outputs": [
        {
          "output_type": "stream",
          "text": [
            "CPU times: user 52.1 ms, sys: 2.73 ms, total: 54.8 ms\n",
            "Wall time: 57.2 ms\n"
          ],
          "name": "stdout"
        }
      ]
    },
    {
      "cell_type": "code",
      "metadata": {
        "colab": {
          "base_uri": "https://localhost:8080/"
        },
        "id": "ZxxuhhpqAbW7",
        "outputId": "8f363667-98a3-4334-d423-654f296dbe28"
      },
      "source": [
        "ret[:3]"
      ],
      "execution_count": null,
      "outputs": [
        {
          "output_type": "execute_result",
          "data": {
            "text/plain": [
              "[(20070701, 827.0023980815348),\n",
              " (20070702, 929.4117647058823),\n",
              " (20070703, 984.9152542372881)]"
            ]
          },
          "metadata": {
            "tags": []
          },
          "execution_count": 118
        }
      ]
    },
    {
      "cell_type": "code",
      "metadata": {
        "colab": {
          "base_uri": "https://localhost:8080/",
          "height": 419
        },
        "id": "Y3xIjAnNT16m",
        "outputId": "e9f4c9e2-d069-4d9b-e93e-da3543f72d1f"
      },
      "source": [
        "# 重複削除(distinct)\n",
        "df[~df.duplicated(subset=['date', 'item'])].loc[:, [\"date\", \"item\"]]"
      ],
      "execution_count": null,
      "outputs": [
        {
          "output_type": "execute_result",
          "data": {
            "text/html": [
              "<div>\n",
              "<style scoped>\n",
              "    .dataframe tbody tr th:only-of-type {\n",
              "        vertical-align: middle;\n",
              "    }\n",
              "\n",
              "    .dataframe tbody tr th {\n",
              "        vertical-align: top;\n",
              "    }\n",
              "\n",
              "    .dataframe thead th {\n",
              "        text-align: right;\n",
              "    }\n",
              "</style>\n",
              "<table border=\"1\" class=\"dataframe\">\n",
              "  <thead>\n",
              "    <tr style=\"text-align: right;\">\n",
              "      <th></th>\n",
              "      <th>date</th>\n",
              "      <th>item</th>\n",
              "    </tr>\n",
              "  </thead>\n",
              "  <tbody>\n",
              "    <tr>\n",
              "      <th>0</th>\n",
              "      <td>20070701</td>\n",
              "      <td>和牛焼肉弁当</td>\n",
              "    </tr>\n",
              "    <tr>\n",
              "      <th>1</th>\n",
              "      <td>20070701</td>\n",
              "      <td>冷麺定食</td>\n",
              "    </tr>\n",
              "    <tr>\n",
              "      <th>2</th>\n",
              "      <td>20070701</td>\n",
              "      <td>オリジナル３品盛り合わせ</td>\n",
              "    </tr>\n",
              "    <tr>\n",
              "      <th>5</th>\n",
              "      <td>20070701</td>\n",
              "      <td>石焼ビビンバ膳</td>\n",
              "    </tr>\n",
              "    <tr>\n",
              "      <th>6</th>\n",
              "      <td>20070701</td>\n",
              "      <td>いわて和牛しゃぶしゃぶ膳</td>\n",
              "    </tr>\n",
              "    <tr>\n",
              "      <th>...</th>\n",
              "      <td>...</td>\n",
              "      <td>...</td>\n",
              "    </tr>\n",
              "    <tr>\n",
              "      <th>108242</th>\n",
              "      <td>20081014</td>\n",
              "      <td>厳選リブロース２</td>\n",
              "    </tr>\n",
              "    <tr>\n",
              "      <th>108243</th>\n",
              "      <td>20081014</td>\n",
              "      <td>上トモカルビ</td>\n",
              "    </tr>\n",
              "    <tr>\n",
              "      <th>108244</th>\n",
              "      <td>20081014</td>\n",
              "      <td>上霜降トモカルビ</td>\n",
              "    </tr>\n",
              "    <tr>\n",
              "      <th>108245</th>\n",
              "      <td>20081014</td>\n",
              "      <td>骨付き上霜降りトモカルビ</td>\n",
              "    </tr>\n",
              "    <tr>\n",
              "      <th>108246</th>\n",
              "      <td>20081014</td>\n",
              "      <td>秋のキノコ</td>\n",
              "    </tr>\n",
              "  </tbody>\n",
              "</table>\n",
              "<p>46230 rows × 2 columns</p>\n",
              "</div>"
            ],
            "text/plain": [
              "            date          item\n",
              "0       20070701        和牛焼肉弁当\n",
              "1       20070701          冷麺定食\n",
              "2       20070701  オリジナル３品盛り合わせ\n",
              "5       20070701       石焼ビビンバ膳\n",
              "6       20070701  いわて和牛しゃぶしゃぶ膳\n",
              "...          ...           ...\n",
              "108242  20081014      厳選リブロース２\n",
              "108243  20081014        上トモカルビ\n",
              "108244  20081014      上霜降トモカルビ\n",
              "108245  20081014  骨付き上霜降りトモカルビ\n",
              "108246  20081014         秋のキノコ\n",
              "\n",
              "[46230 rows x 2 columns]"
            ]
          },
          "metadata": {
            "tags": []
          },
          "execution_count": 37
        }
      ]
    },
    {
      "cell_type": "markdown",
      "metadata": {
        "id": "ng1aN5Lwu6Br"
      },
      "source": [
        "## INSERRT"
      ]
    },
    {
      "cell_type": "code",
      "metadata": {
        "id": "y1y62fWxu78P"
      },
      "source": [
        "import pandas as pd"
      ],
      "execution_count": null,
      "outputs": []
    },
    {
      "cell_type": "code",
      "metadata": {
        "id": "kyI_5j6L09zF"
      },
      "source": [
        "import pandas as pd\n",
        "\n",
        "df = pd.DataFrame({'A': ['A1', 'A2', 'A3'],\n",
        "                   'B': ['B1', 'B2', 'B3'],\n",
        "                   'C': ['C1', 'C2', 'C3']})"
      ],
      "execution_count": null,
      "outputs": []
    },
    {
      "cell_type": "code",
      "metadata": {
        "colab": {
          "base_uri": "https://localhost:8080/",
          "height": 142
        },
        "id": "WuogS8hQ1Kfz",
        "outputId": "ac004bf9-33f9-4bfa-bb6b-2da11f175712"
      },
      "source": [
        "df"
      ],
      "execution_count": null,
      "outputs": [
        {
          "output_type": "execute_result",
          "data": {
            "text/html": [
              "<div>\n",
              "<style scoped>\n",
              "    .dataframe tbody tr th:only-of-type {\n",
              "        vertical-align: middle;\n",
              "    }\n",
              "\n",
              "    .dataframe tbody tr th {\n",
              "        vertical-align: top;\n",
              "    }\n",
              "\n",
              "    .dataframe thead th {\n",
              "        text-align: right;\n",
              "    }\n",
              "</style>\n",
              "<table border=\"1\" class=\"dataframe\">\n",
              "  <thead>\n",
              "    <tr style=\"text-align: right;\">\n",
              "      <th></th>\n",
              "      <th>A</th>\n",
              "      <th>B</th>\n",
              "      <th>C</th>\n",
              "    </tr>\n",
              "  </thead>\n",
              "  <tbody>\n",
              "    <tr>\n",
              "      <th>0</th>\n",
              "      <td>A1</td>\n",
              "      <td>B1</td>\n",
              "      <td>C1</td>\n",
              "    </tr>\n",
              "    <tr>\n",
              "      <th>1</th>\n",
              "      <td>A2</td>\n",
              "      <td>B2</td>\n",
              "      <td>C2</td>\n",
              "    </tr>\n",
              "    <tr>\n",
              "      <th>2</th>\n",
              "      <td>A3</td>\n",
              "      <td>B3</td>\n",
              "      <td>C3</td>\n",
              "    </tr>\n",
              "  </tbody>\n",
              "</table>\n",
              "</div>"
            ],
            "text/plain": [
              "    A   B   C\n",
              "0  A1  B1  C1\n",
              "1  A2  B2  C2\n",
              "2  A3  B3  C3"
            ]
          },
          "metadata": {
            "tags": []
          },
          "execution_count": 27
        }
      ]
    },
    {
      "cell_type": "code",
      "metadata": {
        "colab": {
          "base_uri": "https://localhost:8080/"
        },
        "id": "PA-aVeUyFo4N",
        "outputId": "793129af-df7e-4444-9504-80e25b448597"
      },
      "source": [
        "df.columns"
      ],
      "execution_count": null,
      "outputs": [
        {
          "output_type": "execute_result",
          "data": {
            "text/plain": [
              "Index(['A', 'B', 'C'], dtype='object')"
            ]
          },
          "metadata": {
            "tags": []
          },
          "execution_count": 42
        }
      ]
    },
    {
      "cell_type": "code",
      "metadata": {
        "colab": {
          "base_uri": "https://localhost:8080/"
        },
        "id": "l1sO3eY01f45",
        "outputId": "c13e067c-a489-421a-f513-cc88debde9ae"
      },
      "source": [
        "s = pd.Series(['A4', 'B4', 'C4'], index=['A', 'B', 'C'], name=3)\n",
        "s"
      ],
      "execution_count": null,
      "outputs": [
        {
          "output_type": "execute_result",
          "data": {
            "text/plain": [
              "A    A4\n",
              "B    B4\n",
              "C    C4\n",
              "Name: 3, dtype: object"
            ]
          },
          "metadata": {
            "tags": []
          },
          "execution_count": 47
        }
      ]
    },
    {
      "cell_type": "code",
      "metadata": {
        "colab": {
          "base_uri": "https://localhost:8080/",
          "height": 173
        },
        "id": "ZktOn61e2kZR",
        "outputId": "2ef40bdd-fe6f-4139-a5ec-e988b6989be6"
      },
      "source": [
        "# igonore_Indexで元の行番号が無視される\n",
        "df_inserted = df.append(s)\n",
        "#del df\n",
        "df_inserted"
      ],
      "execution_count": null,
      "outputs": [
        {
          "output_type": "execute_result",
          "data": {
            "text/html": [
              "<div>\n",
              "<style scoped>\n",
              "    .dataframe tbody tr th:only-of-type {\n",
              "        vertical-align: middle;\n",
              "    }\n",
              "\n",
              "    .dataframe tbody tr th {\n",
              "        vertical-align: top;\n",
              "    }\n",
              "\n",
              "    .dataframe thead th {\n",
              "        text-align: right;\n",
              "    }\n",
              "</style>\n",
              "<table border=\"1\" class=\"dataframe\">\n",
              "  <thead>\n",
              "    <tr style=\"text-align: right;\">\n",
              "      <th></th>\n",
              "      <th>A</th>\n",
              "      <th>B</th>\n",
              "      <th>C</th>\n",
              "    </tr>\n",
              "  </thead>\n",
              "  <tbody>\n",
              "    <tr>\n",
              "      <th>0</th>\n",
              "      <td>A1</td>\n",
              "      <td>B1</td>\n",
              "      <td>C1</td>\n",
              "    </tr>\n",
              "    <tr>\n",
              "      <th>1</th>\n",
              "      <td>A2</td>\n",
              "      <td>B2</td>\n",
              "      <td>C2</td>\n",
              "    </tr>\n",
              "    <tr>\n",
              "      <th>2</th>\n",
              "      <td>A3</td>\n",
              "      <td>B3</td>\n",
              "      <td>C3</td>\n",
              "    </tr>\n",
              "    <tr>\n",
              "      <th>3</th>\n",
              "      <td>A4</td>\n",
              "      <td>B4</td>\n",
              "      <td>C4</td>\n",
              "    </tr>\n",
              "  </tbody>\n",
              "</table>\n",
              "</div>"
            ],
            "text/plain": [
              "    A   B   C\n",
              "0  A1  B1  C1\n",
              "1  A2  B2  C2\n",
              "2  A3  B3  C3\n",
              "3  A4  B4  C4"
            ]
          },
          "metadata": {
            "tags": []
          },
          "execution_count": 48
        }
      ]
    },
    {
      "cell_type": "code",
      "metadata": {
        "colab": {
          "base_uri": "https://localhost:8080/",
          "height": 173
        },
        "id": "UUC1RdQy3CJe",
        "outputId": "602d8095-f407-40c1-f6ed-8c5ba315a051"
      },
      "source": [
        "s = pd.Series(['A4', 'B4', 'C4'], index=df.columns, name=4)\n",
        "df.append(s)"
      ],
      "execution_count": null,
      "outputs": [
        {
          "output_type": "execute_result",
          "data": {
            "text/html": [
              "<div>\n",
              "<style scoped>\n",
              "    .dataframe tbody tr th:only-of-type {\n",
              "        vertical-align: middle;\n",
              "    }\n",
              "\n",
              "    .dataframe tbody tr th {\n",
              "        vertical-align: top;\n",
              "    }\n",
              "\n",
              "    .dataframe thead th {\n",
              "        text-align: right;\n",
              "    }\n",
              "</style>\n",
              "<table border=\"1\" class=\"dataframe\">\n",
              "  <thead>\n",
              "    <tr style=\"text-align: right;\">\n",
              "      <th></th>\n",
              "      <th>A</th>\n",
              "      <th>B</th>\n",
              "      <th>C</th>\n",
              "      <th>0</th>\n",
              "      <th>1</th>\n",
              "      <th>2</th>\n",
              "    </tr>\n",
              "  </thead>\n",
              "  <tbody>\n",
              "    <tr>\n",
              "      <th>0</th>\n",
              "      <td>A1</td>\n",
              "      <td>B1</td>\n",
              "      <td>C1</td>\n",
              "      <td>NaN</td>\n",
              "      <td>NaN</td>\n",
              "      <td>NaN</td>\n",
              "    </tr>\n",
              "    <tr>\n",
              "      <th>1</th>\n",
              "      <td>A2</td>\n",
              "      <td>B2</td>\n",
              "      <td>C2</td>\n",
              "      <td>NaN</td>\n",
              "      <td>NaN</td>\n",
              "      <td>NaN</td>\n",
              "    </tr>\n",
              "    <tr>\n",
              "      <th>2</th>\n",
              "      <td>A3</td>\n",
              "      <td>B3</td>\n",
              "      <td>C3</td>\n",
              "      <td>NaN</td>\n",
              "      <td>NaN</td>\n",
              "      <td>NaN</td>\n",
              "    </tr>\n",
              "    <tr>\n",
              "      <th>4</th>\n",
              "      <td>NaN</td>\n",
              "      <td>NaN</td>\n",
              "      <td>NaN</td>\n",
              "      <td>A4</td>\n",
              "      <td>B4</td>\n",
              "      <td>C4</td>\n",
              "    </tr>\n",
              "  </tbody>\n",
              "</table>\n",
              "</div>"
            ],
            "text/plain": [
              "     A    B    C    0    1    2\n",
              "0   A1   B1   C1  NaN  NaN  NaN\n",
              "1   A2   B2   C2  NaN  NaN  NaN\n",
              "2   A3   B3   C3  NaN  NaN  NaN\n",
              "4  NaN  NaN  NaN   A4   B4   C4"
            ]
          },
          "metadata": {
            "tags": []
          },
          "execution_count": 31
        }
      ]
    },
    {
      "cell_type": "code",
      "metadata": {
        "colab": {
          "base_uri": "https://localhost:8080/",
          "height": 204
        },
        "id": "EORrgwwW4M7d",
        "outputId": "44fd2e07-d9ba-452a-8db8-0d34781b03e4"
      },
      "source": [
        "# 複数のレコードを登録\n",
        "df2 = pd.DataFrame([['A6', 'B6', 'C6'], ['A7', 'B7', 'C7']], \n",
        "                   columns=['A', 'B', 'C'])\n",
        "df.append(df2, ignore_index=True)"
      ],
      "execution_count": null,
      "outputs": [
        {
          "output_type": "execute_result",
          "data": {
            "text/html": [
              "<div>\n",
              "<style scoped>\n",
              "    .dataframe tbody tr th:only-of-type {\n",
              "        vertical-align: middle;\n",
              "    }\n",
              "\n",
              "    .dataframe tbody tr th {\n",
              "        vertical-align: top;\n",
              "    }\n",
              "\n",
              "    .dataframe thead th {\n",
              "        text-align: right;\n",
              "    }\n",
              "</style>\n",
              "<table border=\"1\" class=\"dataframe\">\n",
              "  <thead>\n",
              "    <tr style=\"text-align: right;\">\n",
              "      <th></th>\n",
              "      <th>A</th>\n",
              "      <th>B</th>\n",
              "      <th>C</th>\n",
              "    </tr>\n",
              "  </thead>\n",
              "  <tbody>\n",
              "    <tr>\n",
              "      <th>0</th>\n",
              "      <td>A1</td>\n",
              "      <td>B1</td>\n",
              "      <td>C1</td>\n",
              "    </tr>\n",
              "    <tr>\n",
              "      <th>1</th>\n",
              "      <td>A2</td>\n",
              "      <td>B2</td>\n",
              "      <td>C2</td>\n",
              "    </tr>\n",
              "    <tr>\n",
              "      <th>2</th>\n",
              "      <td>A3</td>\n",
              "      <td>B3</td>\n",
              "      <td>C3</td>\n",
              "    </tr>\n",
              "    <tr>\n",
              "      <th>3</th>\n",
              "      <td>A6</td>\n",
              "      <td>B6</td>\n",
              "      <td>C6</td>\n",
              "    </tr>\n",
              "    <tr>\n",
              "      <th>4</th>\n",
              "      <td>A7</td>\n",
              "      <td>B7</td>\n",
              "      <td>C7</td>\n",
              "    </tr>\n",
              "  </tbody>\n",
              "</table>\n",
              "</div>"
            ],
            "text/plain": [
              "    A   B   C\n",
              "0  A1  B1  C1\n",
              "1  A2  B2  C2\n",
              "2  A3  B3  C3\n",
              "3  A6  B6  C6\n",
              "4  A7  B7  C7"
            ]
          },
          "metadata": {
            "tags": []
          },
          "execution_count": 34
        }
      ]
    },
    {
      "cell_type": "code",
      "metadata": {
        "colab": {
          "base_uri": "https://localhost:8080/",
          "height": 173
        },
        "id": "62F3lvpK46VQ",
        "outputId": "002df968-a008-45e3-aa28-9057f8ba5304"
      },
      "source": [
        "# INSERT文 (select文の結果をinsertする)\n",
        "df.append(df2.query('A==\"A6\"'), ignore_index=True)"
      ],
      "execution_count": null,
      "outputs": [
        {
          "output_type": "execute_result",
          "data": {
            "text/html": [
              "<div>\n",
              "<style scoped>\n",
              "    .dataframe tbody tr th:only-of-type {\n",
              "        vertical-align: middle;\n",
              "    }\n",
              "\n",
              "    .dataframe tbody tr th {\n",
              "        vertical-align: top;\n",
              "    }\n",
              "\n",
              "    .dataframe thead th {\n",
              "        text-align: right;\n",
              "    }\n",
              "</style>\n",
              "<table border=\"1\" class=\"dataframe\">\n",
              "  <thead>\n",
              "    <tr style=\"text-align: right;\">\n",
              "      <th></th>\n",
              "      <th>A</th>\n",
              "      <th>B</th>\n",
              "      <th>C</th>\n",
              "    </tr>\n",
              "  </thead>\n",
              "  <tbody>\n",
              "    <tr>\n",
              "      <th>0</th>\n",
              "      <td>A1</td>\n",
              "      <td>B1</td>\n",
              "      <td>C1</td>\n",
              "    </tr>\n",
              "    <tr>\n",
              "      <th>1</th>\n",
              "      <td>A2</td>\n",
              "      <td>B2</td>\n",
              "      <td>C2</td>\n",
              "    </tr>\n",
              "    <tr>\n",
              "      <th>2</th>\n",
              "      <td>A3</td>\n",
              "      <td>B3</td>\n",
              "      <td>C3</td>\n",
              "    </tr>\n",
              "    <tr>\n",
              "      <th>3</th>\n",
              "      <td>A6</td>\n",
              "      <td>B6</td>\n",
              "      <td>C6</td>\n",
              "    </tr>\n",
              "  </tbody>\n",
              "</table>\n",
              "</div>"
            ],
            "text/plain": [
              "    A   B   C\n",
              "0  A1  B1  C1\n",
              "1  A2  B2  C2\n",
              "2  A3  B3  C3\n",
              "3  A6  B6  C6"
            ]
          },
          "metadata": {
            "tags": []
          },
          "execution_count": 40
        }
      ]
    },
    {
      "cell_type": "markdown",
      "metadata": {
        "id": "92p3A4riPMxW"
      },
      "source": [
        ""
      ]
    },
    {
      "cell_type": "code",
      "metadata": {
        "colab": {
          "base_uri": "https://localhost:8080/"
        },
        "id": "oRoZGiLSPM-G",
        "outputId": "fe8f614a-be89-4ebe-edd2-971c6b0ca5bc"
      },
      "source": [
        "import pandas as pd\n",
        "\n",
        "df = pd.DataFrame([['A0', 'B0']],\n",
        "                    columns=['COL1', 'COL2'])\n",
        "\n",
        "df2 = pd.DataFrame([['A1', 'B1'], ['A2', 'B2'], ['A3', 'B3']],\n",
        "                    columns=['COL1', 'COL2'])\n",
        "print(df)\n",
        "# COL1 COL2\n",
        "# 0   A0   B0\n",
        "print(df2)\n",
        "# COL1 COL2\n",
        "#0   A1   B1\n",
        "#1   A2   B2\n",
        "#2   A3   B3\n",
        "\n",
        "print(df.append(df2)) \n",
        "# COL1 COL2\n",
        "#0   A0   B0\n",
        "#0   A1   B1\n",
        "#1   A2   B2\n",
        "#2   A3   B3\n",
        "\n",
        "print(df.append(df2, ignore_index=True))\n",
        "#  COL1 COL2\n",
        "#0   A0   B0\n",
        "#1   A1   B1\n",
        "#2   A2   B2\n",
        "#3   A3   B3\n"
      ],
      "execution_count": null,
      "outputs": [
        {
          "output_type": "stream",
          "text": [
            "--df--\n",
            "  COL1 COL2\n",
            "0   A0   B0\n",
            "  COL1 COL2\n",
            "0   A1   B1\n",
            "1   A2   B2\n",
            "2   A3   B3\n",
            "  COL1 COL2\n",
            "0   A0   B0\n",
            "0   A1   B1\n",
            "1   A2   B2\n",
            "2   A3   B3\n",
            "  COL1 COL2\n",
            "0   A0   B0\n",
            "1   A1   B1\n",
            "2   A2   B2\n",
            "3   A3   B3\n"
          ],
          "name": "stdout"
        }
      ]
    }
  ]
}